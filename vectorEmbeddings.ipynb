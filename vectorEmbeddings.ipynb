{
 "cells": [
  {
   "cell_type": "code",
   "execution_count": 115,
   "metadata": {},
   "outputs": [],
   "source": [
    "from sentence_transformers import SentenceTransformer\n",
    "import numpy as np"
   ]
  },
  {
   "cell_type": "code",
   "execution_count": 116,
   "metadata": {},
   "outputs": [],
   "source": [
    "def dotProduct(vectorOne, vectorTwo):\n",
    "    # Calculating Dot Product \n",
    "    dotproduct = 0\n",
    "    for i in range(len(vectorOne)):\n",
    "        dotproduct += vectorOne[i] * vectorTwo[i]\n",
    "    \n",
    "    return dotproduct"
   ]
  },
  {
   "cell_type": "code",
   "execution_count": 117,
   "metadata": {},
   "outputs": [],
   "source": [
    "def vectorMagnitude(vectorOne):\n",
    "    magnitude = sum([i*i for i in vectorOne]) ** 0.5\n",
    "    return magnitude"
   ]
  },
  {
   "cell_type": "code",
   "execution_count": 118,
   "metadata": {},
   "outputs": [],
   "source": [
    "def cosineSimilarity(vectorOne, vectorTwo):\n",
    "    similarityMetric = dotProduct(vectorOne, vectorTwo)/(vectorMagnitude(vectorOne) * vectorMagnitude(vectorTwo))\n",
    "    return similarityMetric"
   ]
  },
  {
   "cell_type": "code",
   "execution_count": 119,
   "metadata": {},
   "outputs": [],
   "source": [
    "def generateEmbeddings(sentences):\n",
    "    model = SentenceTransformer('sentence-transformers/all-MiniLM-L6-v2')\n",
    "    embeddings = model.encode(sentences)\n",
    "\n",
    "    return embeddings"
   ]
  },
  {
   "attachments": {},
   "cell_type": "markdown",
   "metadata": {},
   "source": [
    "The shape of the output of the embedding model will be:\n",
    "\n",
    "(number of lines, 384)\n",
    "\n",
    "This is because the model takes each sentence and maps it to a vector space with 384 dimensions each.\n",
    "This is to say that the model generates a semantic vector for the text based on 384 AI generated features"
   ]
  },
  {
   "cell_type": "code",
   "execution_count": 127,
   "metadata": {},
   "outputs": [
    {
     "name": "stdout",
     "output_type": "stream",
     "text": [
      "(2, 384)\n"
     ]
    },
    {
     "data": {
      "text/plain": [
       "0.7779751390640226"
      ]
     },
     "execution_count": 127,
     "metadata": {},
     "output_type": "execute_result"
    }
   ],
   "source": [
    "ms = open(\"msd.txt\",\"r\")\n",
    "sw = open(\"msdNew.txt\",\"r\")\n",
    "\n",
    "sentences = [ms.read(),sw.read()]\n",
    "\n",
    "sentenceEmbeddings = generateEmbeddings(sentences)\n",
    "vecOne,vecTwo = sentenceEmbeddings[0], sentenceEmbeddings[1]\n",
    "\n",
    "print(sentenceEmbeddings.shape)\n",
    "cosineSimilarity(vecOne, vecTwo)"
   ]
  },
  {
   "cell_type": "code",
   "execution_count": null,
   "metadata": {},
   "outputs": [],
   "source": []
  }
 ],
 "metadata": {
  "kernelspec": {
   "display_name": "Python 3",
   "language": "python",
   "name": "python3"
  },
  "language_info": {
   "codemirror_mode": {
    "name": "ipython",
    "version": 3
   },
   "file_extension": ".py",
   "mimetype": "text/x-python",
   "name": "python",
   "nbconvert_exporter": "python",
   "pygments_lexer": "ipython3",
   "version": "3.9.6 (tags/v3.9.6:db3ff76, Jun 28 2021, 15:26:21) [MSC v.1929 64 bit (AMD64)]"
  },
  "orig_nbformat": 4,
  "vscode": {
   "interpreter": {
    "hash": "67e93ae0e82d8ec6347f856c040b6af80408dd1b1241ee19b0b83abacdcea27b"
   }
  }
 },
 "nbformat": 4,
 "nbformat_minor": 2
}
